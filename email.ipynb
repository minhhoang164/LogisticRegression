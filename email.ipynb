{
 "cells": [
  {
   "cell_type": "code",
   "execution_count": 1,
   "id": "dfea37e8",
   "metadata": {},
   "outputs": [],
   "source": [
    "import pandas as pd\n",
    "df = pd.read_csv(\"F:/University_HCMUTE/N3_HK2/AIOT/GiuaKy/emails.csv\")"
   ]
  },
  {
   "cell_type": "code",
   "execution_count": 2,
   "id": "d39e3d89",
   "metadata": {},
   "outputs": [],
   "source": [
    "import numpy as np\n",
    "import matplotlib.pyplot as plt"
   ]
  },
  {
   "cell_type": "code",
   "execution_count": 3,
   "id": "8584b550",
   "metadata": {},
   "outputs": [],
   "source": [
    "goal = df.Prediction\n",
    "data = df.drop(['Prediction', 'Email No.'], axis='columns')"
   ]
  },
  {
   "cell_type": "code",
   "execution_count": 4,
   "id": "34c9d46a",
   "metadata": {},
   "outputs": [
    {
     "name": "stdout",
     "output_type": "stream",
     "text": [
      "       Email No.  the  to  ect  and  for  of    a  you  hou  ...  connevey  \\\n",
      "0        Email 1    0   0    1    0    0   0    2    0    0  ...         0   \n",
      "1        Email 2    8  13   24    6    6   2  102    1   27  ...         0   \n",
      "2        Email 3    0   0    1    0    0   0    8    0    0  ...         0   \n",
      "3        Email 4    0   5   22    0    5   1   51    2   10  ...         0   \n",
      "4        Email 5    7   6   17    1    5   2   57    0    9  ...         0   \n",
      "...          ...  ...  ..  ...  ...  ...  ..  ...  ...  ...  ...       ...   \n",
      "5167  Email 5168    2   2    2    3    0   0   32    0    0  ...         0   \n",
      "5168  Email 5169   35  27   11    2    6   5  151    4    3  ...         0   \n",
      "5169  Email 5170    0   0    1    1    0   0   11    0    0  ...         0   \n",
      "5170  Email 5171    2   7    1    0    2   1   28    2    0  ...         0   \n",
      "5171  Email 5172   22  24    5    1    6   5  148    8    2  ...         0   \n",
      "\n",
      "      jay  valued  lay  infrastructure  military  allowing  ff  dry  \\\n",
      "0       0       0    0               0         0         0   0    0   \n",
      "1       0       0    0               0         0         0   1    0   \n",
      "2       0       0    0               0         0         0   0    0   \n",
      "3       0       0    0               0         0         0   0    0   \n",
      "4       0       0    0               0         0         0   1    0   \n",
      "...   ...     ...  ...             ...       ...       ...  ..  ...   \n",
      "5167    0       0    0               0         0         0   0    0   \n",
      "5168    0       0    0               0         0         0   1    0   \n",
      "5169    0       0    0               0         0         0   0    0   \n",
      "5170    0       0    0               0         0         0   1    0   \n",
      "5171    0       0    0               0         0         0   0    0   \n",
      "\n",
      "      Prediction  \n",
      "0              0  \n",
      "1              0  \n",
      "2              0  \n",
      "3              0  \n",
      "4              0  \n",
      "...          ...  \n",
      "5167           0  \n",
      "5168           0  \n",
      "5169           1  \n",
      "5170           1  \n",
      "5171           0  \n",
      "\n",
      "[5172 rows x 3002 columns]\n"
     ]
    }
   ],
   "source": [
    "print(df)"
   ]
  },
  {
   "cell_type": "code",
   "execution_count": 5,
   "id": "6359bbcf",
   "metadata": {},
   "outputs": [],
   "source": [
    "def sigmoid(z):\n",
    "    return 1.0/(1+np.exp(-z))"
   ]
  },
  {
   "cell_type": "code",
   "execution_count": 6,
   "id": "3fa21e50",
   "metadata": {},
   "outputs": [],
   "source": [
    "def phanchia(p):\n",
    "    if p>=0.5 :\n",
    "        return 1\n",
    "    else:\n",
    "        return 0"
   ]
  },
  {
   "cell_type": "code",
   "execution_count": 30,
   "id": "afa14eb4",
   "metadata": {},
   "outputs": [],
   "source": [
    "def predict(features, weights):\n",
    "    z = np.dot(features, weights) #+ weights[0]  # Thêm hệ số chặn vào phép tính\n",
    "    return sigmoid(z)"
   ]
  },
  {
   "cell_type": "code",
   "execution_count": 31,
   "id": "a4a63937",
   "metadata": {},
   "outputs": [],
   "source": [
    "def cost_function(features, weights, labels):\n",
    "    n = len(labels)\n",
    "    predictions = predict(features, weights)\n",
    "    cost1 = -labels * np.log(predictions)\n",
    "    cost2 = -(1 - labels) * np.log(1 - predictions)\n",
    "    cost = cost1 + cost2 \n",
    "    return cost.sum() / n"
   ]
  },
  {
   "cell_type": "code",
   "execution_count": 41,
   "id": "a9ffda61",
   "metadata": {},
   "outputs": [],
   "source": [
    "def update_weight(features, weights, labels, learning_rate):\n",
    "    n = len(labels)\n",
    "    predictions = predict(features, weights)\n",
    "    gd = np.dot((predictions - labels), features) \n",
    "    gd = gd / n\n",
    "    gd = gd * learning_rate\n",
    "    weights = weights - gd\n",
    "    # weights[0] = weights[0] - np.mean(predictions - labels) * learning_rate  # Cập nhật hệ số chặn\n",
    "    return weights"
   ]
  },
  {
   "cell_type": "code",
   "execution_count": 38,
   "id": "3862594c",
   "metadata": {},
   "outputs": [],
   "source": [
    "def train(features, weights, labels, learning_rate, iter):\n",
    "    cost_hs = []\n",
    "    for i in range(iter): \n",
    "        weights = update_weight(features, weights, labels, learning_rate)\n",
    "        cost = cost_function(features, weights, labels)\n",
    "        cost_hs.append(cost)\n",
    "    return weights, cost_hs"
   ]
  },
  {
   "cell_type": "code",
   "execution_count": 11,
   "id": "fefd0e8e",
   "metadata": {},
   "outputs": [],
   "source": [
    "X = data.to_numpy()\n",
    "y = goal.to_numpy()"
   ]
  },
  {
   "cell_type": "code",
   "execution_count": 12,
   "id": "73ba2409",
   "metadata": {},
   "outputs": [],
   "source": [
    "from sklearn.model_selection import train_test_split\n",
    "x_train, x_test, y_train,y_test = train_test_split(X, y, test_size=0.2)"
   ]
  },
  {
   "cell_type": "code",
   "execution_count": 34,
   "id": "eb337c45",
   "metadata": {},
   "outputs": [],
   "source": [
    "n_features = X.shape[1]  # Số lượng đặc trưng\n",
    "weights = np.zeros(n_features)\n",
    "learning_rate = 0.1\n",
    "n_iterations = 1000"
   ]
  },
  {
   "cell_type": "code",
   "execution_count": 39,
   "id": "cc12ac67",
   "metadata": {},
   "outputs": [
    {
     "name": "stderr",
     "output_type": "stream",
     "text": [
      "C:\\Users\\ASUS\\AppData\\Local\\Temp\\ipykernel_20264\\3813775231.py:2: RuntimeWarning: overflow encountered in exp\n",
      "  return 1.0/(1+np.exp(-z))\n",
      "C:\\Users\\ASUS\\AppData\\Local\\Temp\\ipykernel_20264\\201500590.py:4: RuntimeWarning: divide by zero encountered in log\n",
      "  cost1 = -labels * np.log(predictions)\n",
      "C:\\Users\\ASUS\\AppData\\Local\\Temp\\ipykernel_20264\\201500590.py:4: RuntimeWarning: invalid value encountered in multiply\n",
      "  cost1 = -labels * np.log(predictions)\n",
      "C:\\Users\\ASUS\\AppData\\Local\\Temp\\ipykernel_20264\\201500590.py:5: RuntimeWarning: divide by zero encountered in log\n",
      "  cost2 = -(1 - labels) * np.log(1 - predictions)\n",
      "C:\\Users\\ASUS\\AppData\\Local\\Temp\\ipykernel_20264\\201500590.py:5: RuntimeWarning: invalid value encountered in multiply\n",
      "  cost2 = -(1 - labels) * np.log(1 - predictions)\n"
     ]
    }
   ],
   "source": [
    "trained_weights, _ = train(X, weights, y, learning_rate, n_iterations)"
   ]
  },
  {
   "cell_type": "code",
   "execution_count": 15,
   "id": "7674b06d",
   "metadata": {
    "scrolled": true
   },
   "outputs": [],
   "source": [
    "def split_email(email_input):\n",
    "    email_array = np.zeros(3000)\n",
    "    words = email_input.split(' ')\n",
    "    for word in words:\n",
    "        word = word.lower()\n",
    "        if word in data.columns:\n",
    "            index = data.columns.get_loc(word) #lay vi tri cot co tu do\n",
    "            email_array[index] += 1\n",
    "    email_array = email_array.reshape(1, -1)\n",
    "    return email_array"
   ]
  },
  {
   "cell_type": "code",
   "execution_count": 16,
   "id": "acc150bc",
   "metadata": {},
   "outputs": [],
   "source": [
    "email_content = \"I think Donk is insanely talented for his age but he needs to be more mature\"\n",
    "\n",
    "email_features = split_email(email_content)\n",
    "\n",
    "email_pred = predict(email_features, trained_weights)"
   ]
  },
  {
   "cell_type": "code",
   "execution_count": 17,
   "id": "45262733",
   "metadata": {},
   "outputs": [
    {
     "name": "stdout",
     "output_type": "stream",
     "text": [
      "Email này được dự đoán là không spam.\n"
     ]
    }
   ],
   "source": [
    "email_pred = predict(email_features, trained_weights)\n",
    "\n",
    "# In kết quả dự đoán\n",
    "if email_pred >= 0.5:\n",
    "    print(\"Email này được dự đoán là spam.\")\n",
    "else:\n",
    "    print(\"Email này được dự đoán là không spam.\")"
   ]
  },
  {
   "cell_type": "code",
   "execution_count": 40,
   "id": "d8f57bab",
   "metadata": {},
   "outputs": [
    {
     "name": "stdout",
     "output_type": "stream",
     "text": [
      "Độ chính xác trên tập dữ liệu kiểm tra: 0.881159420289855\n"
     ]
    },
    {
     "name": "stderr",
     "output_type": "stream",
     "text": [
      "C:\\Users\\ASUS\\AppData\\Local\\Temp\\ipykernel_20264\\3813775231.py:2: RuntimeWarning: overflow encountered in exp\n",
      "  return 1.0/(1+np.exp(-z))\n"
     ]
    }
   ],
   "source": [
    "from sklearn.metrics import accuracy_score\n",
    "y_pred = predict(x_test, trained_weights)\n",
    "# Chuyển đổi xác suất thành nhãn nhị phân bằng một ngưỡng\n",
    "y_pred_binary = (y_pred >= 0.5).astype(int)\n",
    "\n",
    "# Tính độ chính xác\n",
    "accuracy = accuracy_score(y_test, y_pred_binary)\n",
    "print(\"Độ chính xác trên tập dữ liệu kiểm tra:\", accuracy)\n"
   ]
  },
  {
   "cell_type": "code",
   "execution_count": 21,
   "id": "4c278c05",
   "metadata": {},
   "outputs": [
    {
     "name": "stdout",
     "output_type": "stream",
     "text": [
      "[[687  40]\n",
      " [ 82 226]]\n"
     ]
    }
   ],
   "source": [
    "from sklearn.metrics import confusion_matrix\n",
    "conf_matrix = confusion_matrix(y_test, y_pred_binary)\n",
    "print(conf_matrix)"
   ]
  },
  {
   "cell_type": "code",
   "execution_count": null,
   "id": "c3893077",
   "metadata": {},
   "outputs": [],
   "source": []
  }
 ],
 "metadata": {
  "kernelspec": {
   "display_name": "Python 3 (ipykernel)",
   "language": "python",
   "name": "python3"
  },
  "language_info": {
   "codemirror_mode": {
    "name": "ipython",
    "version": 3
   },
   "file_extension": ".py",
   "mimetype": "text/x-python",
   "name": "python",
   "nbconvert_exporter": "python",
   "pygments_lexer": "ipython3",
   "version": "3.11.1"
  }
 },
 "nbformat": 4,
 "nbformat_minor": 5
}
